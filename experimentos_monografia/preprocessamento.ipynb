{
 "cells": [
  {
   "cell_type": "code",
   "execution_count": 2,
   "metadata": {},
   "outputs": [],
   "source": [
    "import pandas as pd\n",
    "import bamboolib"
   ]
  },
  {
   "cell_type": "code",
   "execution_count": 3,
   "metadata": {
    "pycharm": {
     "name": "#%%\n"
    }
   },
   "outputs": [],
   "source": [
    "dataframe_final = (pd.read_csv(\"./input/dataframe_final.csv\",sep=\";\"))"
   ]
  },
  {
   "cell_type": "code",
   "execution_count": 6,
   "metadata": {
    "pycharm": {
     "name": "#%%\n"
    }
   },
   "outputs": [
    {
     "data": {
      "text/plain": "          DATA SEMESTRE DIA_SEMANA  DISTANCIA_DIA_ANTERIOR  \\\n0   2017-04-12        1          3                       1   \n1   2017-04-13        1          4                       1   \n2   2017-04-17        1          1                       4   \n3   2017-04-18        1          2                       1   \n4   2017-04-19        1          3                       1   \n..         ...      ...        ...                     ...   \n509 2019-12-10        2          2                       1   \n510 2019-12-11        2          3                       1   \n511 2019-12-12        2          4                       1   \n512 2019-12-13        2          5                       1   \n513 2019-12-16        2          1                       3   \n\n     DISTANCIA_DIA_POSTERIOR PERC_CONCLUSAO_SEM PERC_CONCLUSAO_MES  \\\n0                          1              35,97              40,00   \n1                          4              36,69              43,33   \n2                          1              39,57              56,67   \n3                          1              40,29              60,00   \n4                          1              41,01              63,33   \n..                       ...                ...                ...   \n509                        1              95,52              32,26   \n510                        1              96,27              35,48   \n511                        1              97,01              38,71   \n512                        3              97,76              41,94   \n513                       61             100,00              51,61   \n\n     VENDAS_ALMOCO  VENDAS_ALMOCO_1  VENDAS_ALMOCO_2  ...  ENTR_JANTAR  \\\n0               14               14               14  ...            0   \n1               22               14               14  ...            0   \n2               10               22               14  ...            0   \n3               27               10               22  ...            0   \n4               18               27               10  ...            0   \n..             ...              ...              ...  ...          ...   \n509             75              157              116  ...           19   \n510             45               75              157  ...            9   \n511             43               45               75  ...            8   \n512              7               43               45  ...            0   \n513              5                7               43  ...            0   \n\n     ENTR_JANTAR_1  ENTR_JANTAR_2  ENTR_JANTAR_3  ENTR_JANTAR_4  \\\n0                0              0              0              0   \n1                0              0              0              0   \n2                0              0              0              0   \n3                0              0              0              0   \n4                0              0              0              0   \n..             ...            ...            ...            ...   \n509             69             39            132            111   \n510             19             69             39            132   \n511              9             19             69             39   \n512              8              9             19             69   \n513              0              8              9             19   \n\n     ENTR_JANTAR_5  PRESSAO_ATMOSFERICA  TEMPERATURA  UMIDADE  VENTO  \n0                0                950.7         22.0       84    0.9  \n1                0                953.3         21.0       75    2.2  \n2                0                950.4         22.3       79    0.3  \n3                0                953.9         19.3       77    1.2  \n4                0                954.5         18.4       75    2.1  \n..             ...                  ...          ...      ...    ...  \n509            163                947.8         22.9       81    1.8  \n510            111                946.6         22.9       82    1.6  \n511            132                945.2         22.2       75    1.0  \n512             39                948.2         24.1       74    2.0  \n513             69                947.8         28.3       46    5.6  \n\n[514 rows x 29 columns]",
      "text/html": "<div>\n<style scoped>\n    .dataframe tbody tr th:only-of-type {\n        vertical-align: middle;\n    }\n\n    .dataframe tbody tr th {\n        vertical-align: top;\n    }\n\n    .dataframe thead th {\n        text-align: right;\n    }\n</style>\n<table border=\"1\" class=\"dataframe\">\n  <thead>\n    <tr style=\"text-align: right;\">\n      <th></th>\n      <th>DATA</th>\n      <th>SEMESTRE</th>\n      <th>DIA_SEMANA</th>\n      <th>DISTANCIA_DIA_ANTERIOR</th>\n      <th>DISTANCIA_DIA_POSTERIOR</th>\n      <th>PERC_CONCLUSAO_SEM</th>\n      <th>PERC_CONCLUSAO_MES</th>\n      <th>VENDAS_ALMOCO</th>\n      <th>VENDAS_ALMOCO_1</th>\n      <th>VENDAS_ALMOCO_2</th>\n      <th>...</th>\n      <th>ENTR_JANTAR</th>\n      <th>ENTR_JANTAR_1</th>\n      <th>ENTR_JANTAR_2</th>\n      <th>ENTR_JANTAR_3</th>\n      <th>ENTR_JANTAR_4</th>\n      <th>ENTR_JANTAR_5</th>\n      <th>PRESSAO_ATMOSFERICA</th>\n      <th>TEMPERATURA</th>\n      <th>UMIDADE</th>\n      <th>VENTO</th>\n    </tr>\n  </thead>\n  <tbody>\n    <tr>\n      <th>0</th>\n      <td>2017-04-12</td>\n      <td>1</td>\n      <td>3</td>\n      <td>1</td>\n      <td>1</td>\n      <td>35,97</td>\n      <td>40,00</td>\n      <td>14</td>\n      <td>14</td>\n      <td>14</td>\n      <td>...</td>\n      <td>0</td>\n      <td>0</td>\n      <td>0</td>\n      <td>0</td>\n      <td>0</td>\n      <td>0</td>\n      <td>950.7</td>\n      <td>22.0</td>\n      <td>84</td>\n      <td>0.9</td>\n    </tr>\n    <tr>\n      <th>1</th>\n      <td>2017-04-13</td>\n      <td>1</td>\n      <td>4</td>\n      <td>1</td>\n      <td>4</td>\n      <td>36,69</td>\n      <td>43,33</td>\n      <td>22</td>\n      <td>14</td>\n      <td>14</td>\n      <td>...</td>\n      <td>0</td>\n      <td>0</td>\n      <td>0</td>\n      <td>0</td>\n      <td>0</td>\n      <td>0</td>\n      <td>953.3</td>\n      <td>21.0</td>\n      <td>75</td>\n      <td>2.2</td>\n    </tr>\n    <tr>\n      <th>2</th>\n      <td>2017-04-17</td>\n      <td>1</td>\n      <td>1</td>\n      <td>4</td>\n      <td>1</td>\n      <td>39,57</td>\n      <td>56,67</td>\n      <td>10</td>\n      <td>22</td>\n      <td>14</td>\n      <td>...</td>\n      <td>0</td>\n      <td>0</td>\n      <td>0</td>\n      <td>0</td>\n      <td>0</td>\n      <td>0</td>\n      <td>950.4</td>\n      <td>22.3</td>\n      <td>79</td>\n      <td>0.3</td>\n    </tr>\n    <tr>\n      <th>3</th>\n      <td>2017-04-18</td>\n      <td>1</td>\n      <td>2</td>\n      <td>1</td>\n      <td>1</td>\n      <td>40,29</td>\n      <td>60,00</td>\n      <td>27</td>\n      <td>10</td>\n      <td>22</td>\n      <td>...</td>\n      <td>0</td>\n      <td>0</td>\n      <td>0</td>\n      <td>0</td>\n      <td>0</td>\n      <td>0</td>\n      <td>953.9</td>\n      <td>19.3</td>\n      <td>77</td>\n      <td>1.2</td>\n    </tr>\n    <tr>\n      <th>4</th>\n      <td>2017-04-19</td>\n      <td>1</td>\n      <td>3</td>\n      <td>1</td>\n      <td>1</td>\n      <td>41,01</td>\n      <td>63,33</td>\n      <td>18</td>\n      <td>27</td>\n      <td>10</td>\n      <td>...</td>\n      <td>0</td>\n      <td>0</td>\n      <td>0</td>\n      <td>0</td>\n      <td>0</td>\n      <td>0</td>\n      <td>954.5</td>\n      <td>18.4</td>\n      <td>75</td>\n      <td>2.1</td>\n    </tr>\n    <tr>\n      <th>...</th>\n      <td>...</td>\n      <td>...</td>\n      <td>...</td>\n      <td>...</td>\n      <td>...</td>\n      <td>...</td>\n      <td>...</td>\n      <td>...</td>\n      <td>...</td>\n      <td>...</td>\n      <td>...</td>\n      <td>...</td>\n      <td>...</td>\n      <td>...</td>\n      <td>...</td>\n      <td>...</td>\n      <td>...</td>\n      <td>...</td>\n      <td>...</td>\n      <td>...</td>\n      <td>...</td>\n    </tr>\n    <tr>\n      <th>509</th>\n      <td>2019-12-10</td>\n      <td>2</td>\n      <td>2</td>\n      <td>1</td>\n      <td>1</td>\n      <td>95,52</td>\n      <td>32,26</td>\n      <td>75</td>\n      <td>157</td>\n      <td>116</td>\n      <td>...</td>\n      <td>19</td>\n      <td>69</td>\n      <td>39</td>\n      <td>132</td>\n      <td>111</td>\n      <td>163</td>\n      <td>947.8</td>\n      <td>22.9</td>\n      <td>81</td>\n      <td>1.8</td>\n    </tr>\n    <tr>\n      <th>510</th>\n      <td>2019-12-11</td>\n      <td>2</td>\n      <td>3</td>\n      <td>1</td>\n      <td>1</td>\n      <td>96,27</td>\n      <td>35,48</td>\n      <td>45</td>\n      <td>75</td>\n      <td>157</td>\n      <td>...</td>\n      <td>9</td>\n      <td>19</td>\n      <td>69</td>\n      <td>39</td>\n      <td>132</td>\n      <td>111</td>\n      <td>946.6</td>\n      <td>22.9</td>\n      <td>82</td>\n      <td>1.6</td>\n    </tr>\n    <tr>\n      <th>511</th>\n      <td>2019-12-12</td>\n      <td>2</td>\n      <td>4</td>\n      <td>1</td>\n      <td>1</td>\n      <td>97,01</td>\n      <td>38,71</td>\n      <td>43</td>\n      <td>45</td>\n      <td>75</td>\n      <td>...</td>\n      <td>8</td>\n      <td>9</td>\n      <td>19</td>\n      <td>69</td>\n      <td>39</td>\n      <td>132</td>\n      <td>945.2</td>\n      <td>22.2</td>\n      <td>75</td>\n      <td>1.0</td>\n    </tr>\n    <tr>\n      <th>512</th>\n      <td>2019-12-13</td>\n      <td>2</td>\n      <td>5</td>\n      <td>1</td>\n      <td>3</td>\n      <td>97,76</td>\n      <td>41,94</td>\n      <td>7</td>\n      <td>43</td>\n      <td>45</td>\n      <td>...</td>\n      <td>0</td>\n      <td>8</td>\n      <td>9</td>\n      <td>19</td>\n      <td>69</td>\n      <td>39</td>\n      <td>948.2</td>\n      <td>24.1</td>\n      <td>74</td>\n      <td>2.0</td>\n    </tr>\n    <tr>\n      <th>513</th>\n      <td>2019-12-16</td>\n      <td>2</td>\n      <td>1</td>\n      <td>3</td>\n      <td>61</td>\n      <td>100,00</td>\n      <td>51,61</td>\n      <td>5</td>\n      <td>7</td>\n      <td>43</td>\n      <td>...</td>\n      <td>0</td>\n      <td>0</td>\n      <td>8</td>\n      <td>9</td>\n      <td>19</td>\n      <td>69</td>\n      <td>947.8</td>\n      <td>28.3</td>\n      <td>46</td>\n      <td>5.6</td>\n    </tr>\n  </tbody>\n</table>\n<p>514 rows × 29 columns</p>\n</div>",
      "application/vnd.jupyter.widget-view+json": {
       "model_id": "f859fba7724848d6a54ac151572e3280"
      }
     },
     "metadata": {},
     "output_type": "display_data"
    }
   ],
   "source": [
    "dataframe_final['DATA'] = pd.to_datetime(dataframe_final['DATA'], format='%d/%m/%Y')\n",
    "dataframe_final['SEMESTRE'] = dataframe_final['SEMESTRE'].astype('category')\n",
    "dataframe_final['DIA_SEMANA'] = dataframe_final['DIA_SEMANA'].astype('category')\n",
    "dataframe_final"
   ]
  },
  {
   "cell_type": "code",
   "execution_count": 7,
   "metadata": {},
   "outputs": [],
   "source": [
    "dataframe_final.to_pickle('./dataframe_mlp.pkl')"
   ]
  }
 ],
 "metadata": {
  "kernelspec": {
   "display_name": "Python 3",
   "language": "python",
   "name": "python3"
  },
  "language_info": {
   "codemirror_mode": {
    "name": "ipython",
    "version": 3
   },
   "file_extension": ".py",
   "mimetype": "text/x-python",
   "name": "python",
   "nbconvert_exporter": "python",
   "pygments_lexer": "ipython3",
   "version": "3.7.6"
  }
 },
 "nbformat": 4,
 "nbformat_minor": 1
}