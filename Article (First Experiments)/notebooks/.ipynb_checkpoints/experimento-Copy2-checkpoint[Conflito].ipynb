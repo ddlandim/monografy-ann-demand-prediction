{
 "cells": [
  {
   "cell_type": "code",
   "execution_count": 4,
   "metadata": {},
   "outputs": [
    {
     "name": "stderr",
     "output_type": "stream",
     "text": [
      "Using TensorFlow backend.\n"
     ]
    },
    {
     "name": "stdout",
     "output_type": "stream",
     "text": [
      "['teste.csv', 'todos.csv', 'treino.csv']\n"
     ]
    }
   ],
   "source": [
    "import numpy as np\n",
    "import pandas as pd\n",
    "import matplotlib.pyplot as plt\n",
    "import seaborn as sns\n",
    "\n",
    "from sklearn.preprocessing import LabelEncoder,OneHotEncoder\n",
    "from sklearn.model_selection import train_test_split\n",
    "from sklearn.preprocessing import StandardScaler\n",
    "#from sklearn import metrics\n",
    "\n",
    "from keras.wrappers.scikit_learn import KerasRegressor\n",
    "#from keras import metrics\n",
    "from keras.models import Sequential\n",
    "from keras.layers import Dense\n",
    "from keras.callbacks import ModelCheckpoint\n",
    "from keras.callbacks import EarlyStopping\n",
    "\n",
    "# load a saved model\n",
    "from keras.models import load_model\n",
    "\n",
    "from matplotlib import pyplot\n",
    "\n",
    "import os\n",
    "%matplotlib inline\n",
    "print(os.listdir(\"../dados/input\"))\n"
   ]
  },
  {
   "cell_type": "code",
   "execution_count": 9,
   "metadata": {
    "scrolled": true
   },
   "outputs": [],
   "source": [
    "original_data = pd.read_csv('../dados/input/todos.csv')"
   ]
  },
  {
   "cell_type": "code",
   "execution_count": 64,
   "metadata": {},
   "outputs": [],
   "source": [
    "n_values = len(original_data.iloc[:,1])\n",
    "n_test = 5\n",
    "n_train = n_values - n_test\n",
    "n_train_start = n_test+1\n",
    "date = 0\n",
    "max_temp = 1\n",
    "sales = 19"
   ]
  },
  {
   "cell_type": "code",
   "execution_count": 65,
   "metadata": {},
   "outputs": [],
   "source": [
    "X_train = original_data.iloc[n_train_start : n_values, max_temp : sales ]"
   ]
  },
  {
   "cell_type": "code",
   "execution_count": 66,
   "metadata": {},
   "outputs": [
    {
     "data": {
      "text/plain": [
       "array([[ 30.2 ,  74.25,   0.  , ..., 138.  , 188.  , 165.  ],\n",
       "       [ 28.3 ,  70.75,   1.  , ..., 188.  , 165.  , 110.  ],\n",
       "       [ 21.1 ,  85.  ,   0.  , ..., 165.  , 110.  , 355.  ],\n",
       "       ...,\n",
       "       [ 24.1 ,  88.25,   1.  , ...,   0.  ,   0.  ,   0.  ],\n",
       "       [ 20.3 ,  78.75,   0.  , ...,   0.  ,   0.  ,   0.  ],\n",
       "       [ 25.2 ,  83.5 ,   0.  , ...,   0.  ,   0.  ,   0.  ]])"
      ]
     },
     "execution_count": 66,
     "metadata": {},
     "output_type": "execute_result"
    }
   ],
   "source": [
    "X_train.values"
   ]
  },
  {
   "cell_type": "code",
   "execution_count": 67,
   "metadata": {},
   "outputs": [],
   "source": [
    "Y_train = original_data.iloc[n_train_start:n_values, sales].values"
   ]
  },
  {
   "cell_type": "code",
   "execution_count": 68,
   "metadata": {},
   "outputs": [
    {
     "data": {
      "text/plain": [
       "array([203, 323,  49, 138, 188, 165, 110, 355, 387, 411, 287, 216, 440,\n",
       "       422, 432, 310, 238, 432, 407, 424, 316, 268, 409, 393, 384, 321,\n",
       "       247, 416, 413, 432, 312, 417, 402, 381, 337, 288, 429, 387, 495,\n",
       "       337, 243, 485, 415, 465, 358, 260, 460, 436, 467, 331, 261, 473,\n",
       "       407, 476, 305,  20,  40,  68, 110,  18, 204, 216, 363,   0, 256,\n",
       "       412,  73, 469, 391,   0, 439, 442, 468, 382, 353, 425, 453, 247,\n",
       "       261, 309, 496, 456, 523, 426,  68, 455, 507, 402, 352, 464, 442,\n",
       "       490, 413, 319, 529, 453, 503, 439, 344, 532, 457, 335, 512, 481,\n",
       "       533, 460, 320, 526, 488, 547, 448, 349, 532, 491, 572, 443, 398,\n",
       "       568, 465, 551, 486, 424, 398, 520, 463, 389, 525, 490, 553, 340,\n",
       "       544, 500, 548, 413, 378, 514, 502, 502, 430, 308, 461, 443, 470,\n",
       "       446,  42,  70,  64, 101, 178, 215, 263, 145, 295, 351, 387, 294,\n",
       "       194, 460, 363, 437, 314, 212, 396, 336, 427, 312, 218, 407, 428,\n",
       "       306, 220, 367, 352, 463, 320, 306, 451, 353,  95, 149, 209, 227,\n",
       "       202, 233, 391, 358, 456, 335, 323, 469, 319, 297, 411, 370, 412,\n",
       "       331, 255, 446, 394, 472, 361, 263, 428, 336, 470, 343, 232, 449,\n",
       "       386, 477, 377, 347, 480, 359, 224, 450, 375, 491, 347, 266, 415,\n",
       "       405, 464, 358, 253, 446, 388, 523, 346, 245, 438, 361, 503, 319,\n",
       "        39,  45,  97, 115, 138, 134, 211, 308, 353, 401, 382, 321, 352,\n",
       "       428, 453, 433, 376, 449, 403, 286, 408, 393, 442, 431,  17,  12,\n",
       "        17,  27,  16, 141, 117,  42,  20, 363, 162,  35, 351,  21,  23,\n",
       "        27,  28, 162,  23,  14,  84,  41,   9,  15,  15,  17,  26,  10,\n",
       "        14,  17,  26,  10,  22,  14], dtype=int64)"
      ]
     },
     "execution_count": 68,
     "metadata": {},
     "output_type": "execute_result"
    }
   ],
   "source": [
    "Y_train"
   ]
  },
  {
   "cell_type": "code",
   "execution_count": 70,
   "metadata": {},
   "outputs": [
    {
     "data": {
      "text/plain": [
       "array([[ 28.  ,  72.75,   0.  ,   1.  ,   0.  ,   0.  ,   0.  ,   1.  ,\n",
       "          0.  ,   0.  ,   0.  ,   1.  ,   1.  , 293.  , 263.  , 402.  ,\n",
       "        382.  , 203.  ],\n",
       "       [ 21.  ,  82.75,   1.  ,   0.  ,   0.  ,   0.  ,   0.  ,   1.  ,\n",
       "          0.  ,   0.  ,   0.  ,   1.  ,   3.  , 263.  , 402.  , 382.  ,\n",
       "        203.  , 323.  ],\n",
       "       [ 25.4 ,  85.5 ,   0.  ,   0.  ,   0.  ,   0.  ,   1.  ,   1.  ,\n",
       "          0.  ,   0.  ,   0.  ,   3.  ,   1.  , 402.  , 382.  , 203.  ,\n",
       "        323.  ,  49.  ],\n",
       "       [ 21.4 ,  91.  ,   0.  ,   0.  ,   0.  ,   1.  ,   0.  ,   1.  ,\n",
       "          0.  ,   0.  ,   0.  ,   1.  ,   1.  , 382.  , 203.  , 323.  ,\n",
       "         49.  , 138.  ],\n",
       "       [ 19.5 ,  88.75,   0.  ,   0.  ,   1.  ,   0.  ,   0.  ,   1.  ,\n",
       "          0.  ,   0.  ,   0.  ,   1.  ,   1.  , 203.  , 323.  ,  49.  ,\n",
       "        138.  , 188.  ]])"
      ]
     },
     "execution_count": 70,
     "metadata": {},
     "output_type": "execute_result"
    }
   ],
   "source": [
    "X_test = original_data.iloc[1:n_test+1, max_temp : sales].values\n",
    "X_test"
   ]
  },
  {
   "cell_type": "code",
   "execution_count": 71,
   "metadata": {},
   "outputs": [
    {
     "data": {
      "text/plain": [
       "array([437, 293, 263, 402, 382], dtype=int64)"
      ]
     },
     "execution_count": 71,
     "metadata": {},
     "output_type": "execute_result"
    }
   ],
   "source": [
    "Y_test = original_data.iloc[1:n_test+1, sales].values\n",
    "Y_test"
   ]
  },
  {
   "cell_type": "code",
   "execution_count": 72,
   "metadata": {},
   "outputs": [],
   "source": [
    "scaler = StandardScaler().fit(X_train)\n",
    "standardized_X_train = scaler.transform(X_train)\n",
    "standardized_X_test = scaler.transform(X_test)"
   ]
  },
  {
   "cell_type": "code",
   "execution_count": 47,
   "metadata": {},
   "outputs": [],
   "source": [
    "early_stopping_monitor = EarlyStopping(\n",
    "                                        monitor = 'mean_squared_error', \n",
    "                                        mode = 'min',\n",
    "                                        min_delta=1,\n",
    "                                        verbose=0,\n",
    "                                        patience = 500\n",
    ")\n",
    "model_checkpoint = ModelCheckpoint('best_model.h5', monitor='mean_squared_error', mode='min', verbose=0, save_best_only=True)"
   ]
  },
  {
   "cell_type": "code",
   "execution_count": 48,
   "metadata": {},
   "outputs": [],
   "source": [
    "model1 = Sequential()\n",
    "model1.add(\n",
    "            Dense(\n",
    "                    9,\n",
    "                    activation='relu',\n",
    "                    input_dim=standardized_X_train.shape[1]\n",
    "            )\n",
    ")\n",
    "model1.add(\n",
    "            Dense(1)\n",
    ")\n",
    "model1.compile(\n",
    "                loss='mean_squared_error',\n",
    "                optimizer='adam',\n",
    "                metrics=[   'accuracy',\n",
    "                            'mse',\n",
    "                            'mae',\n",
    "                        ]\n",
    ")"
   ]
  },
  {
   "cell_type": "code",
   "execution_count": 74,
   "metadata": {},
   "outputs": [
    {
     "data": {
      "image/png": "[encoded data removed]",
      "text/plain": [
       "<Figure size 432x288 with 1 Axes>"
      ]
     },
     "metadata": {
      "needs_background": "light"
     },
     "output_type": "display_data"
    }
   ],
   "source": [
    "model1_history = model1.fit(\n",
    "            standardized_X_train,\n",
    "            Y_train,\n",
    "            batch_size=5,\n",
    "            epochs=5000,\n",
    "            #validation_split=0.3,\n",
    "            validation_data=(standardized_X_test,Y_test),\n",
    "            verbose=0,\n",
    "            callbacks=[model_checkpoint,early_stopping_monitor]\n",
    ")\n",
    "\n",
    "saved_model1 = load_model('best_model.h5')\n",
    "\n",
    "pyplot.plot(model1_history.history['loss'], label='train')\n",
    "pyplot.plot(model1_history.history['val_loss'], label='validation')\n",
    "pyplot.legend()\n",
    "pyplot.show()"
   ]
  },
  {
   "cell_type": "code",
   "execution_count": 50,
   "metadata": {},
   "outputs": [],
   "source": [
    "model2 = Sequential()\n",
    "\n",
    "model2.add(\n",
    "            Dense(\n",
    "                    standardized_X_train.shape[1],\n",
    "                    activation='relu',\n",
    "                    input_dim=standardized_X_train.shape[1]\n",
    "            )\n",
    ")\n",
    "model2.add(\n",
    "            Dense(\n",
    "                    9,\n",
    "                    activation='relu',\n",
    "                    input_dim=standardized_X_train.shape[1]\n",
    "            )\n",
    ")\n",
    "model2.add(\n",
    "            Dense(1)\n",
    ")\n",
    "model2.compile(\n",
    "                loss='mean_squared_error',\n",
    "                optimizer='adam',\n",
    "                metrics=[   'accuracy',\n",
    "                            'mse',\n",
    "                            'mae',\n",
    "                        ]\n",
    ")"
   ]
  },
  {
   "cell_type": "code",
   "execution_count": 59,
   "metadata": {},
   "outputs": [
    {
     "data": {
      "image/png": "[encoded data removed]",
      "text/plain": [
       "<Figure size 432x288 with 1 Axes>"
      ]
     },
     "metadata": {
      "needs_background": "light"
     },
     "output_type": "display_data"
    }
   ],
   "source": [
    "model2_history = model2.fit(\n",
    "            standardized_X_train,\n",
    "            Y_train,\n",
    "            batch_size=148,\n",
    "            epochs=5000,\n",
    "            #validation_split=0.3,\n",
    "            validation_data=(standardized_X_test,Y_test),\n",
    "            verbose=0,\n",
    "            callbacks=[model_checkpoint,early_stopping_monitor]\n",
    ")\n",
    "saved_model2 = load_model('best_model.h5')\n",
    "\n",
    "pyplot.plot(model2_history.history['loss'], label='train')\n",
    "pyplot.plot(model2_history.history['val_loss'], label='validation')\n",
    "pyplot.legend()\n",
    "pyplot.show()"
   ]
  },
  {
   "cell_type": "code",
   "execution_count": 52,
   "metadata": {},
   "outputs": [],
   "source": [
    "model3 = Sequential()\n",
    "model3.add(\n",
    "            Dense(\n",
    "                    standardized_X_train.shape[1],\n",
    "                    activation='relu',\n",
    "                    input_dim=standardized_X_train.shape[1]\n",
    "            )\n",
    ")\n",
    "model3.add(\n",
    "            Dense(\n",
    "                    10,\n",
    "                    activation='relu',\n",
    "                    input_dim=standardized_X_train.shape[1]\n",
    "            )\n",
    ")\n",
    "model3.add(\n",
    "            Dense(\n",
    "                    5,\n",
    "                    activation='relu',\n",
    "                    input_dim=10\n",
    "            )\n",
    ")\n",
    "model3.add(\n",
    "            Dense(1)\n",
    ")\n",
    "model3.compile(\n",
    "                loss='mean_squared_error',\n",
    "                optimizer='adam',\n",
    "                metrics=[   'accuracy',\n",
    "                            'mse',\n",
    "                            'mae',\n",
    "                        ]\n",
    ")"
   ]
  },
  {
   "cell_type": "code",
   "execution_count": 60,
   "metadata": {},
   "outputs": [
    {
     "data": {
      "image/png": "[encoded data removed]",
      "text/plain": [
       "<Figure size 432x288 with 1 Axes>"
      ]
     },
     "metadata": {
      "needs_background": "light"
     },
     "output_type": "display_data"
    }
   ],
   "source": [
    "model3_history = model3.fit(\n",
    "            standardized_X_train,\n",
    "            Y_train,\n",
    "            batch_size=148,\n",
    "            epochs=5000,\n",
    "            #validation_split=0.3,\n",
    "            validation_data=(standardized_X_test,Y_test),\n",
    "            verbose=0,\n",
    "            callbacks=[model_checkpoint,early_stopping_monitor]\n",
    ")\n",
    "\n",
    "saved_model3 = load_model('best_model.h5')\n",
    "\n",
    "pyplot.plot(model3_history.history['loss'], label='train')\n",
    "pyplot.plot(model3_history.history['val_loss'], label='validation')\n",
    "pyplot.legend()\n",
    "pyplot.show()"
   ]
  },
  {
   "cell_type": "code",
   "execution_count": 61,
   "metadata": {},
   "outputs": [
    {
     "name": "stdout",
     "output_type": "stream",
     "text": [
      "267/267 [==============================] - 0s 642us/step\n",
      "267/267 [==============================] - 0s 704us/step\n",
      "267/267 [==============================] - 0s 746us/step\n",
      "29/29 [==============================] - 0s 34us/step\n",
      "['loss', 'acc', 'mean_squared_error', 'mean_absolute_error']\n",
      "Model 1: \n",
      "[12956.537218872527, 0.11235955056179775, 12956.537218872527, 51.92430517646704]\n",
      "Model 2: \n",
      "[12956.537218872527, 0.11235955056179775, 12956.537218872527, 51.92430517646704]\n",
      "Model 3: \n",
      "[12956.537218872527, 0.11235955056179775, 12956.537218872527, 51.92430517646704]\n",
      "Test: \n",
      "[13451.5869140625, 0.0, 13451.5869140625, 88.3315200805664]\n"
     ]
    }
   ],
   "source": [
    "predictions1 = saved_model1.predict(standardized_X_test)\n",
    "predictions2 = saved_model2.predict(standardized_X_test)\n",
    "predictions3 = saved_model3.predict(standardized_X_test)\n",
    "\n",
    "# evaluate the model\n",
    "train_acc1 = saved_model1.evaluate(standardized_X_train, Y_train)\n",
    "train_acc2 = saved_model2.evaluate(standardized_X_train, Y_train)\n",
    "train_acc3 = saved_model3.evaluate(standardized_X_train, Y_train)\n",
    "test_acc = saved_model3.evaluate(standardized_X_test, Y_test)\n",
    "\n",
    "print(saved_model1.metrics_names)\n",
    "print('Model 1: ') \n",
    "print(train_acc1)\n",
    "print('Model 2: ') \n",
    "print(train_acc2)\n",
    "print('Model 3: ') \n",
    "print(train_acc3)\n",
    "print('Test: ') \n",
    "print(test_acc)"
   ]
  },
  {
   "cell_type": "code",
   "execution_count": 62,
   "metadata": {},
   "outputs": [
    {
     "data": {
      "text/plain": [
       "Text(0, 0.5, 'Model 3 Predicted Y')"
      ]
     },
     "execution_count": 62,
     "metadata": {},
     "output_type": "execute_result"
    },
    {
     "data": {
      "image/png": "[encoded data removed]",
      "text/plain": [
       "<Figure size 288x216 with 1 Axes>"
      ]
     },
     "metadata": {
      "needs_background": "light"
     },
     "output_type": "display_data"
    },
    {
     "data": {
      "image/png": "[encoded data removed]",
      "text/plain": [
       "<Figure size 288x216 with 1 Axes>"
      ]
     },
     "metadata": {
      "needs_background": "light"
     },
     "output_type": "display_data"
    },
    {
     "data": {
      "image/png": "[encoded data removed]",
      "text/plain": [
       "<Figure size 288x216 with 1 Axes>"
      ]
     },
     "metadata": {
      "needs_background": "light"
     },
     "output_type": "display_data"
    }
   ],
   "source": [
    "plt.figure(figsize=(4,3))\n",
    "plt.scatter(Y_test[:200],predictions1[:200])\n",
    "plt.xlabel('Y Test')\n",
    "plt.ylabel('Model 1 Predicted Y')\n",
    "\n",
    "plt.figure(figsize=(4,3))\n",
    "plt.scatter(Y_test[:200],predictions2[:200])\n",
    "plt.xlabel('Y Test')\n",
    "plt.ylabel('Model 2 Predicted Y')\n",
    "\n",
    "plt.figure(figsize=(4,3))\n",
    "plt.scatter(Y_test[:200],predictions3[:200])\n",
    "plt.xlabel('Y Test')\n",
    "plt.ylabel('Model 3 Predicted Y')"
   ]
  },
  {
   "cell_type": "code",
   "execution_count": 78,
   "metadata": {},
   "outputs": [
    {
     "ename": "TypeError",
     "evalue": "unsupported operand type(s) for -: 'str' and 'float'",
     "output_type": "error",
     "traceback": [
      "\u001b[1;31m---------------------------------------------------------------------------\u001b[0m",
      "\u001b[1;31mTypeError\u001b[0m                                 Traceback (most recent call last)",
      "\u001b[1;32m<ipython-input-78-a8376d524727>\u001b[0m in \u001b[0;36m<module>\u001b[1;34m()\u001b[0m\n\u001b[0;32m      1\u001b[0m \u001b[0mx\u001b[0m \u001b[1;33m=\u001b[0m \u001b[0moriginal_data\u001b[0m\u001b[1;33m.\u001b[0m\u001b[0miloc\u001b[0m\u001b[1;33m[\u001b[0m\u001b[1;36m0\u001b[0m\u001b[1;33m,\u001b[0m \u001b[1;36m0\u001b[0m\u001b[1;33m]\u001b[0m\u001b[1;33m\u001b[0m\u001b[0m\n\u001b[0;32m      2\u001b[0m \u001b[0mwidth\u001b[0m \u001b[1;33m=\u001b[0m \u001b[1;36m0.35\u001b[0m\u001b[1;33m\u001b[0m\u001b[0m\n\u001b[1;32m----> 3\u001b[1;33m \u001b[0mpyplot\u001b[0m\u001b[1;33m.\u001b[0m\u001b[0mbar\u001b[0m\u001b[1;33m(\u001b[0m\u001b[0mx\u001b[0m \u001b[1;33m-\u001b[0m \u001b[0mwidth\u001b[0m\u001b[1;33m/\u001b[0m\u001b[1;36m2\u001b[0m\u001b[1;33m,\u001b[0m \u001b[0mpredictions1\u001b[0m\u001b[1;33m,\u001b[0m \u001b[0mlabel\u001b[0m\u001b[1;33m=\u001b[0m\u001b[1;34m'model1'\u001b[0m\u001b[1;33m)\u001b[0m\u001b[1;33m\u001b[0m\u001b[0m\n\u001b[0m\u001b[0;32m      4\u001b[0m \u001b[0mpyplot\u001b[0m\u001b[1;33m.\u001b[0m\u001b[0mbar\u001b[0m\u001b[1;33m(\u001b[0m\u001b[0mx\u001b[0m \u001b[1;33m+\u001b[0m \u001b[0mwidth\u001b[0m\u001b[1;33m/\u001b[0m\u001b[1;36m2\u001b[0m\u001b[1;33m,\u001b[0m \u001b[0mY_test\u001b[0m\u001b[1;33m,\u001b[0m \u001b[0mlabel\u001b[0m\u001b[1;33m=\u001b[0m\u001b[1;34m'test'\u001b[0m\u001b[1;33m)\u001b[0m\u001b[1;33m\u001b[0m\u001b[0m\n\u001b[0;32m      5\u001b[0m \u001b[0mpyplot\u001b[0m\u001b[1;33m.\u001b[0m\u001b[0mlegend\u001b[0m\u001b[1;33m(\u001b[0m\u001b[1;33m)\u001b[0m\u001b[1;33m\u001b[0m\u001b[0m\n",
      "\u001b[1;31mTypeError\u001b[0m: unsupported operand type(s) for -: 'str' and 'float'"
     ]
    }
   ],
   "source": [
    "pyplot.plot(predictions1, label='model1')\n",
    "pyplot.plot(Y_test, label='test')\n",
    "pyplot.legend()\n",
    "pyplot.show()\n",
    "\n",
    "pyplot.plot(predictions2, label='model2')\n",
    "pyplot.plot(Y_test, label='test')\n",
    "pyplot.legend()\n",
    "pyplot.show()\n",
    "\n",
    "pyplot.plot(predictions3, label='model3')\n",
    "pyplot.plot(Y_test, label='test')\n",
    "pyplot.legend()\n",
    "pyplot.show()"
   ]
  }
 ],
 "metadata": {
  "kernelspec": {
   "display_name": "Python 3",
   "language": "python",
   "name": "python3"
  },
  "language_info": {
   "codemirror_mode": {
    "name": "ipython",
    "version": 3
   },
   "file_extension": ".py",
   "mimetype": "text/x-python",
   "name": "python",
   "nbconvert_exporter": "python",
   "pygments_lexer": "ipython3",
   "version": "3.6.6"
  }
 },
 "nbformat": 4,
 "nbformat_minor": 2
}
